{
  "nbformat": 4,
  "nbformat_minor": 0,
  "metadata": {
    "colab": {
      "provenance": []
    },
    "kernelspec": {
      "name": "python3",
      "display_name": "Python 3"
    },
    "language_info": {
      "name": "python"
    }
  },
  "cells": [
    {
      "cell_type": "markdown",
      "source": [
        "1.Write a program to find out the prime numbers\n"
      ],
      "metadata": {
        "id": "APjEh1KJ-LOB"
      }
    },
    {
      "cell_type": "code",
      "source": [
        "\n",
        "# getting the input from user\n",
        "n=int(input())\n",
        "\n",
        "# prime number starts from 2 so n>1 condition\n",
        "# Iterating the input starting from 2 to check prime or not\n",
        "\n",
        "if n>1:\n",
        "  for i in range(2,n):\n",
        "    if n%i==0:\n",
        "      print(n,'is not a prime number')\n",
        "      break\n",
        "  else:\n",
        "      print(n,\"is prime number\")\n",
        "else:\n",
        "  print(n,\"is not a prime number\")\n",
        "\n"
      ],
      "metadata": {
        "colab": {
          "base_uri": "https://localhost:8080/"
        },
        "id": "MNvC7Of9ziDZ",
        "outputId": "64c0f650-e63d-48b2-87c8-db886e92022b"
      },
      "execution_count": 53,
      "outputs": [
        {
          "output_type": "stream",
          "name": "stdout",
          "text": [
            "7\n",
            "7 is prime number\n"
          ]
        }
      ]
    },
    {
      "cell_type": "markdown",
      "source": [
        "2. Write a program to create the equation (a+b+c) * (a-b-c) * ab + a^2 + b ^2 + (abc)^3\n"
      ],
      "metadata": {
        "id": "9qB074-s0JdR"
      }
    },
    {
      "cell_type": "code",
      "source": [
        "str1=a\n",
        "str2=b\n",
        "str3=c\n",
        "equation = (a+b+c)*(a-b-c)*a*b+a**2+b**2+(a*b*c)**3\n",
        "print(equation)\n"
      ],
      "metadata": {
        "colab": {
          "base_uri": "https://localhost:8080/"
        },
        "id": "q6x43E9n0ICK",
        "outputId": "840072bb-44ed-4c33-d976-eb7dcebdb376"
      },
      "execution_count": 54,
      "outputs": [
        {
          "output_type": "stream",
          "name": "stdout",
          "text": [
            "0\n"
          ]
        }
      ]
    },
    {
      "cell_type": "markdown",
      "source": [
        "\n",
        "3. urlist = ['wood','knife','axe'] , mylist = ['tree', 'apple', 'mango', 'melon'] – combine two lists"
      ],
      "metadata": {
        "id": "5UVIZT1m0EQS"
      }
    },
    {
      "cell_type": "code",
      "source": [
        "urlist = ['wood','knife','axe']\n",
        "mylist = ['tree', 'apple', 'mango', 'melon']\n",
        "\n",
        "# 2 lists given . Combining both lists and storing in results\n",
        "# list - will allow duplicates , ordered & changeable\n",
        "# We can add/remove/change in the lists\n",
        "# while combining 2 lists, 2nd list details will be after the 1st details & allows duplicates if have any\n",
        "\n",
        "result= urlist+mylist\n",
        "print(result)\n"
      ],
      "metadata": {
        "colab": {
          "base_uri": "https://localhost:8080/"
        },
        "id": "IL_lqD2W0ChZ",
        "outputId": "bda0c2ca-722d-4e3a-ccec-c0c1cedde9e5"
      },
      "execution_count": 55,
      "outputs": [
        {
          "output_type": "stream",
          "name": "stdout",
          "text": [
            "['wood', 'knife', 'axe', 'tree', 'apple', 'mango', 'melon']\n"
          ]
        }
      ]
    },
    {
      "cell_type": "markdown",
      "source": [
        "4. Write a program for natural number based on user input"
      ],
      "metadata": {
        "id": "-Tf5XyaMz_Rz"
      }
    },
    {
      "cell_type": "code",
      "source": [
        "# getting the input from user\n",
        "\n",
        "getinput=int(input())\n",
        "\n",
        "# If else condition is used to check the input and display o/p\n",
        "# natural num starts from 1 so condition set as >=1.\n",
        "\n",
        "if getinput>=1:\n",
        "  print(\"This is Natural Number\")\n",
        "else:\n",
        "  print(\"This is Not Natural Number\")"
      ],
      "metadata": {
        "colab": {
          "base_uri": "https://localhost:8080/"
        },
        "id": "ptl-Eww4z-wI",
        "outputId": "3572283e-13c7-4134-a189-0e77808a18a1"
      },
      "execution_count": 56,
      "outputs": [
        {
          "output_type": "stream",
          "name": "stdout",
          "text": [
            "0\n",
            "This is Not Natural Number\n"
          ]
        }
      ]
    },
    {
      "cell_type": "markdown",
      "source": [
        "\n",
        "5. Write class and function for the equation sqrt(x1-x2) ^ 2 + sqrt( y1 – y2 ) ^2 using try except handling\n"
      ],
      "metadata": {
        "id": "kmH03o5Fz656"
      }
    },
    {
      "cell_type": "code",
      "source": [
        "import math\n",
        "\n",
        "def equation(self, x1, y1, x2, y2):\n",
        "        try:\n",
        "            return (math.sqrt(x1 - x2) ** 2) + (math.sqrt(y1 - y2) ** 2)\n",
        "        except ValueError:\n",
        "            return \"Invalid input values. Square root of a negative number is not defined.\"\n",
        "\n",
        "\n",
        "\n",
        "\n"
      ],
      "metadata": {
        "id": "5tH4WPKaz5yg"
      },
      "execution_count": 58,
      "outputs": []
    },
    {
      "cell_type": "markdown",
      "source": [
        "\n",
        "6. Name = “Guvi python” - write a program to get “python” word from the string"
      ],
      "metadata": {
        "id": "IX9k-aqo0Yqh"
      }
    },
    {
      "cell_type": "code",
      "source": [
        "Name ='Guvi Python' # input\n",
        "\n",
        "# String slicing\n",
        "#Accessing elements of the string with index number (includes space)\n",
        "\n",
        "print(Name[5:])"
      ],
      "metadata": {
        "colab": {
          "base_uri": "https://localhost:8080/"
        },
        "id": "IfLqlNHX0XNa",
        "outputId": "70f7a548-7617-4d9c-86a7-65e32b751bf0"
      },
      "execution_count": 59,
      "outputs": [
        {
          "output_type": "stream",
          "name": "stdout",
          "text": [
            "Python\n"
          ]
        }
      ]
    },
    {
      "cell_type": "markdown",
      "source": [
        "7. Using class and function - Write a program for palindrome Ex. Madam"
      ],
      "metadata": {
        "id": "4agF1zFLz2T4"
      }
    },
    {
      "cell_type": "code",
      "source": [
        "def palindrome(userinput):\n",
        "  reverse= userinput[::-1]     # reversing the given string\n",
        "\n",
        "  if (userinput==reverse):     # checking if palindrome\n",
        "    return True                # if both input & reversed string is same returns True\n",
        "  return False\n",
        "\n",
        "userinput='madam'              # giving input\n",
        "output=palindrome(userinput)   # calling function\n",
        "\n",
        "if output:\n",
        "  print( userinput,\"is Palindrome\")\n",
        "\n",
        "else:\n",
        "  print( userinput,\"is Not Palindrome\")\n"
      ],
      "metadata": {
        "colab": {
          "base_uri": "https://localhost:8080/"
        },
        "id": "OqLOXDMKz1qx",
        "outputId": "215bb25f-380c-4c01-f145-ec6f624c8048"
      },
      "execution_count": 60,
      "outputs": [
        {
          "output_type": "stream",
          "name": "stdout",
          "text": [
            "madam is Palindrome\n"
          ]
        }
      ]
    },
    {
      "cell_type": "markdown",
      "source": [
        "8. Using file handling – write a text file in ur system with “hello world”\n",
        "\n",
        "\n"
      ],
      "metadata": {
        "id": "1y0n9vLkzyPS"
      }
    },
    {
      "cell_type": "code",
      "source": [
        "# file handling using with method\n",
        "# With - automatically closes the file once it is done. no need to add close()\n",
        "# W+ mode- to write & then read the file\n",
        "# named file name as miniproject storing in text document\n",
        "#seek - to search from 0 Character.\n",
        "\n",
        "with open(\"miniproject.txt\",'w+') as file:\n",
        "  file.write(\"Hello World\")\n",
        "  file.seek(0)\n",
        "  out=file.read()\n",
        "  print(out)"
      ],
      "metadata": {
        "colab": {
          "base_uri": "https://localhost:8080/"
        },
        "id": "B9rhUyqJzpdM",
        "outputId": "c8a74708-8b6c-48b9-d715-1dd75941232d"
      },
      "execution_count": 61,
      "outputs": [
        {
          "output_type": "stream",
          "name": "stdout",
          "text": [
            "Hello World\n"
          ]
        }
      ]
    },
    {
      "cell_type": "markdown",
      "source": [
        "9.create option button using tkinter GUI in python\n"
      ],
      "metadata": {
        "id": "tJoh7sxW-HD3"
      }
    },
    {
      "cell_type": "code",
      "source": [
        "\n",
        "# importing tkinter lib , * to import all from tkinter (can mention explicitly if any)\n",
        "\n",
        "from tkinter import *\n",
        "\n",
        "# calling Tk and storing in variable root (act as base to add widgets in the interface)\n",
        "# .pack() - adds the value directly\n",
        "\n",
        "root=Tk()\n",
        "\n",
        "# StringVar - to define varible type , storing it in a variable 'SelectedValue'\n",
        "\n",
        "SelectedValue = StringVar()\n",
        "\n",
        "# By default all the option buttons will be enabled\n",
        "# To disable that we have used set() to set it as 'None'\n",
        "\n",
        "SelectedValue.set('None')\n",
        "\n",
        "# get() - to get the values inside the function\n",
        "\n",
        "def change_option():\n",
        "    Selected= SelectedValue.get()\n",
        "    print(f\"Selected option: {Selected}\")\n",
        "\n",
        "# Defining the playername & the respective team name.\n",
        "# iterating one by one\n",
        "\n",
        "options= [('Virat','RCB'),('Dhoni','CSK'),('Rohit','MI'),('Sanju','RR')]\n",
        "\n",
        "for name,team in options:\n",
        "    Radiobutton(root,text=name,variable=SelectedValue, value= team, command=change_option).pack()\n",
        "\n",
        "\n",
        "def buttonclick():\n",
        "    Selected= SelectedValue.get()\n",
        "    Label(root,text= f\"Selected Player's Team Name: {Selected}\").pack()\n",
        "\n",
        "# Create a button to get selected option\n",
        "\n",
        "get_option_button = Button(root, text=\"Get Selected Option\", command= buttonclick)\n",
        "get_option_button.pack()\n",
        "\n",
        "root.mainloop()  # to start the main loop root"
      ],
      "metadata": {
        "id": "6WSvucnjzpwc"
      },
      "execution_count": null,
      "outputs": []
    },
    {
      "cell_type": "markdown",
      "source": [
        "10. Keep only numbers from the following string x = “ 89e9jcd^o38829@3%3,/mkl$w1”"
      ],
      "metadata": {
        "id": "hw0cf49_zrxx"
      }
    },
    {
      "cell_type": "code",
      "source": [
        "# To keep only numbers using regex method\n",
        "# Importing regex library\n",
        "# findall - to find the digits 0-9 in the given input 'x'\n",
        "\n",
        "import re\n",
        "x = '89e9jcd^o38829@3%3,/mkl$w1'\n",
        "\n",
        "Number= re.findall('[0-9]',x)\n",
        "print(Number)\n"
      ],
      "metadata": {
        "colab": {
          "base_uri": "https://localhost:8080/"
        },
        "id": "7S5_wn98zp3_",
        "outputId": "5a1bf1dd-2a93-4d59-e708-1f3a1179cbd8"
      },
      "execution_count": 62,
      "outputs": [
        {
          "output_type": "stream",
          "name": "stdout",
          "text": [
            "['8', '9', '9', '3', '8', '8', '2', '9', '3', '3', '1']\n"
          ]
        }
      ]
    }
  ]
}